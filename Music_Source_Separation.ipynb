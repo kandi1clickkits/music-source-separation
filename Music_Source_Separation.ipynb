{
 "cells": [
  {
   "cell_type": "markdown",
   "id": "a6864bad",
   "metadata": {},
   "source": [
    "## Demucs - Music Source Separation"
   ]
  },
  {
   "cell_type": "markdown",
   "id": "5e7284ee",
   "metadata": {},
   "source": [
    "### Library Imports"
   ]
  },
  {
   "cell_type": "code",
   "execution_count": 1,
   "id": "5afcc1be",
   "metadata": {},
   "outputs": [],
   "source": [
    "import os\n",
    "import gradio as gr\n",
    "from scipy.io.wavfile import write\n",
    "import subprocess"
   ]
  },
  {
   "cell_type": "markdown",
   "id": "5b3fdbb8",
   "metadata": {},
   "source": [
    "### Demucs music separation"
   ]
  },
  {
   "cell_type": "code",
   "execution_count": 2,
   "id": "01912721",
   "metadata": {},
   "outputs": [],
   "source": [
    "def inference(audio):\n",
    "    os.makedirs(\"out\", exist_ok=True)\n",
    "    write('test.wav', audio[0], audio[1])\n",
    "    os.system(\"python -m demucs.separate -n htdemucs_ft -d cpu test.wav -o out\")\n",
    "    files = [\"./out/htdemucs_ft/test/vocals.wav\",\n",
    "             \"./out/htdemucs_ft/test/bass.wav\",\n",
    "             \"./out/htdemucs_ft/test/drums.wav\",\n",
    "             \"./out/htdemucs_ft/test/other.wav\"]\n",
    "\n",
    "    return files"
   ]
  },
  {
   "cell_type": "markdown",
   "id": "2439e662",
   "metadata": {},
   "source": [
    "### Gradio App Interface"
   ]
  },
  {
   "cell_type": "code",
   "execution_count": 3,
   "id": "f2e6f181",
   "metadata": {},
   "outputs": [
    {
     "name": "stdout",
     "output_type": "stream",
     "text": [
      "Running on local URL:  http://127.0.0.1:7860\n",
      "\n",
      "To create a public link, set `share=True` in `launch()`.\n"
     ]
    },
    {
     "data": {
      "text/html": [
       "<div><iframe src=\"http://127.0.0.1:7860/\" width=\"100%\" height=\"500\" allow=\"autoplay; camera; microphone; clipboard-read; clipboard-write;\" frameborder=\"0\" allowfullscreen></iframe></div>"
      ],
      "text/plain": [
       "<IPython.core.display.HTML object>"
      ]
     },
     "metadata": {},
     "output_type": "display_data"
    },
    {
     "data": {
      "text/plain": []
     },
     "execution_count": 3,
     "metadata": {},
     "output_type": "execute_result"
    }
   ],
   "source": [
    "title = \"Music Source Separation\"\n",
    "description = \"Gradio app for music source separation in the waveform domain using Meta's Demucs.\"\n",
    "\n",
    "gr.Interface(\n",
    "    inference, \n",
    "    inputs=gr.Audio(type=\"numpy\", label=\"Input\"), \n",
    "    outputs=[gr.Audio(type=\"filepath\", label=\"Vocals\"),gr.Audio(type=\"filepath\", label=\"Bass\"),gr.Audio(type=\"filepath\", label=\"Drums\"),gr.Audio(type=\"filepath\", label=\"Other\")],\n",
    "    title=title,\n",
    "    description=description).launch(inbrowser=True)"
   ]
  }
 ],
 "metadata": {
  "kernelspec": {
   "display_name": "Python 3 (ipykernel)",
   "language": "python",
   "name": "python3"
  },
  "language_info": {
   "codemirror_mode": {
    "name": "ipython",
    "version": 3
   },
   "file_extension": ".py",
   "mimetype": "text/x-python",
   "name": "python",
   "nbconvert_exporter": "python",
   "pygments_lexer": "ipython3",
   "version": "3.9.8"
  }
 },
 "nbformat": 4,
 "nbformat_minor": 5
}
